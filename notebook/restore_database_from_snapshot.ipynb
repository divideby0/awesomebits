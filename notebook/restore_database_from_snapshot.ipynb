{
 "cells": [
  {
   "cell_type": "markdown",
   "metadata": {},
   "source": [
    "# Restore Database from S3 Snapshot\n",
    "\n",
    "Request a link to an S3 Snapshot from an Awesome Foundation Website admin and paste it into the form below."
   ]
  },
  {
   "cell_type": "code",
   "execution_count": null,
   "metadata": {},
   "outputs": [],
   "source": [
    "db_password = os.getenv('POSTGRES_PASSWORD')\n",
    "\n",
    "%env PGPASSWORD=$db_password\n",
    "\n",
    "import hashlib\n",
    "import io\n",
    "import os\n",
    "import subprocess\n",
    "from subprocess import Popen, PIPE\n",
    "import sys\n",
    "from tempfile import TemporaryFile, NamedTemporaryFile\n",
    "import urllib.request\n",
    "\n",
    "from IPython.display import display\n",
    "from ipywidgets import widgets\n",
    "import requests\n",
    "import shlex\n",
    "from tqdm import tqdm\n",
    "\n",
    "class DownloadProgressBar(tqdm):\n",
    "    def update_to(self, b=1, bsize=1, tsize=None):\n",
    "        if tsize is not None:\n",
    "            self.total = tsize\n",
    "        self.update(b * bsize - self.n)\n",
    "\n",
    "\n",
    "def download_url(url, output_path):\n",
    "    with DownloadProgressBar(unit='B',\n",
    "                             unit_scale=True,\n",
    "                             miniters=1,\n",
    "                             desc=url.split('/')[-1].split('?')[0]) as t:\n",
    "        urllib.request.urlretrieve(url, filename=output_path, reporthook=t.update_to)\n",
    "\n",
    "def restore_database(snapshot_url):\n",
    "    os.makedirs('snapshots', exist_ok=True)\n",
    "    snapshot_url_hash = hashlib.sha256(snapshot_url.encode('utf-8')).hexdigest()\n",
    "    snapshot_file_path = f\"snapshots/{snapshot_url_hash}.pgdump\"\n",
    "\n",
    "    if not os.path.exists(snapshot_file_path):\n",
    "      download_url(snapshot_url, snapshot_file_path)\n",
    "    \n",
    "    username = os.getenv('POSTGRES_USER')\n",
    "    password = os.getenv('POSTGRES_PASSWORD')\n",
    "    database_name = os.getenv('DB_NAME')\n",
    "    host = 'db'\n",
    "\n",
    "    !psql -h {host} -d {database_name} -U {username} -c \"DROP DATABASE \\\"$DATABASE\\\";\"\n",
    "    !pg_restore -h {host} -d {database_name} -U {username} -w {snapshot_file_path}\n",
    "\n",
    "snapshot_url_input = widgets.Text(placeholder=\"Please Enter Snapshot URL and Hit Enter\")\n",
    "button = widgets.Button(description=\"Restore database!\")\n",
    "\n",
    "display(snapshot_url_input, button)\n",
    "\n",
    "def on_submit(wdgt):\n",
    "    restore_database(snapshot_url_input.value)\n",
    "\n",
    "button.on_click(on_submit)"
   ]
  },
  {
   "cell_type": "code",
   "execution_count": null,
   "metadata": {},
   "outputs": [],
   "source": []
  },
  {
   "cell_type": "code",
   "execution_count": null,
   "metadata": {},
   "outputs": [],
   "source": []
  }
 ],
 "metadata": {
  "kernelspec": {
   "display_name": "Python 3",
   "language": "python",
   "name": "python3"
  },
  "language_info": {
   "codemirror_mode": {
    "name": "ipython",
    "version": 3
   },
   "file_extension": ".py",
   "mimetype": "text/x-python",
   "name": "python",
   "nbconvert_exporter": "python",
   "pygments_lexer": "ipython3",
   "version": "3.7.3"
  }
 },
 "nbformat": 4,
 "nbformat_minor": 2
}
