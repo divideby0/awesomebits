{
 "cells": [
  {
   "cell_type": "code",
   "execution_count": null,
   "metadata": {},
   "outputs": [],
   "source": [
    "!pip install pandarallel psycopg2\n",
    "\n",
    "import os\n",
    "import pandas as pd\n",
    "from sqlalchemy import create_engine, Column, Integer, String, ForeignKey\n",
    "from sqlalchemy.ext.declarative import declarative_base\n",
    "from sqlalchemy.orm.session import sessionmaker\n",
    "\n",
    "from IPython.display import display, HTML\n",
    "\n",
    "from sklearn.feature_extraction.text import TfidfVectorizer"
   ]
  },
  {
   "cell_type": "code",
   "execution_count": null,
   "metadata": {},
   "outputs": [],
   "source": [
    "db_name = os.getenv('DB_NAME')\n",
    "db_user = os.getenv('POSTGRES_USER')\n",
    "db_password = os.getenv('POSTGRES_PASSWORD')\n",
    "db_host = 'db'\n",
    "\n",
    "%env PGPASSWORD=$db_password\n",
    "\n",
    "Session = sessionmaker()\n",
    "db = create_engine(f\"postgres://{db_user}:{db_password}@{db_host}/{db_name}\")\n",
    "Session.configure(bind=db)\n",
    "session = Session()"
   ]
  },
  {
   "cell_type": "code",
   "execution_count": null,
   "metadata": {
    "scrolled": true
   },
   "outputs": [],
   "source": [
    "users = pd.read_sql(\"select * from users\", session.bind).set_index('id', drop=False)\n",
    "projects = pd.read_sql(\"select * from projects\", session.bind).set_index('id', drop=False)\n",
    "chapters = pd.read_sql(\"select * from chapters\", session.bind).set_index('id', drop=False)"
   ]
  },
  {
   "cell_type": "code",
   "execution_count": null,
   "metadata": {},
   "outputs": [],
   "source": [
    "projects.columns"
   ]
  },
  {
   "cell_type": "code",
   "execution_count": null,
   "metadata": {},
   "outputs": [],
   "source": [
    "funded_projects = projects[projects[\"funded_on\"].notnull()]"
   ]
  },
  {
   "cell_type": "code",
   "execution_count": null,
   "metadata": {},
   "outputs": [],
   "source": [
    "len(funded_projects)"
   ]
  },
  {
   "cell_type": "code",
   "execution_count": null,
   "metadata": {},
   "outputs": [],
   "source": [
    "funded_projects.columns\n",
    "funded_projects.index"
   ]
  },
  {
   "cell_type": "code",
   "execution_count": null,
   "metadata": {},
   "outputs": [],
   "source": [
    "funded_projects.groupby(by=['chapter_id'])[[\"id\"]].agg([\"count\"]).join(chapters).sort_values(by=('id', 'count'), ascending=False)"
   ]
  },
  {
   "cell_type": "code",
   "execution_count": null,
   "metadata": {},
   "outputs": [],
   "source": [
    "projects.rename(columns={'id':'project_id'})"
   ]
  },
  {
   "cell_type": "code",
   "execution_count": null,
   "metadata": {},
   "outputs": [],
   "source": [
    "en_projects = pd.merge(projects.rename(columns={'id':'project_id'}), chapters.rename(columns={'id':'chapter_id'}), \n",
    "         left_on=\"chapter_id\", right_on=\"chapter_id\", suffixes=('_project', '_chapter')).query(\"locale == 'en'\")\n",
    "en_projects"
   ]
  },
  {
   "cell_type": "code",
   "execution_count": null,
   "metadata": {},
   "outputs": [],
   "source": [
    "projects.columns"
   ]
  },
  {
   "cell_type": "code",
   "execution_count": null,
   "metadata": {},
   "outputs": [],
   "source": [
    "chapters.columns"
   ]
  },
  {
   "cell_type": "code",
   "execution_count": null,
   "metadata": {},
   "outputs": [],
   "source": [
    "vectorizer = TfidfVectorizer(stop_words='english')\n",
    "\n",
    "display(HTML('<h2>All projects...</h2>'))\n",
    "all_projects = vectorizer.fit_transform(en_projects['about_project'].values)\n",
    "\n",
    "display(HTML('<h2>Funded projects...</h2>'))\n",
    "funded_projects = vectorizer.fit_transform(en_projects[en_projects['funded_on'].notnull()]['about_project'].values)\n",
    "\n",
    "display(HTML('<h2>Unfunded projects...</h2>'))\n",
    "unfunded_projects = vectorizer.fit_transform(en_projects[en_projects['funded_on'].isnull()]['about_project'].values)"
   ]
  },
  {
   "cell_type": "code",
   "execution_count": null,
   "metadata": {},
   "outputs": [],
   "source": [
    "response = vectorizer.transform([\" \".join(f for f in vectorizer.get_feature_names() if str(f[0]).isalpha())])\n",
    "\n",
    "feature_names = vectorizer.get_feature_names()"
   ]
  },
  {
   "cell_type": "code",
   "execution_count": null,
   "metadata": {},
   "outputs": [],
   "source": [
    "df = pd.DataFrame([(feature_names[col], response[0, col]) for col in response.nonzero()[1][0:1000] if response[0, col] > 0], columns=[\"token\", \"tfidf\"])\n",
    "df.sort_values(by=[\"tfidf\"], ascending=True)"
   ]
  },
  {
   "cell_type": "code",
   "execution_count": null,
   "metadata": {},
   "outputs": [],
   "source": []
  },
  {
   "cell_type": "code",
   "execution_count": null,
   "metadata": {},
   "outputs": [],
   "source": [
    "projects[projects['funded_on'].notnull()]['about_project'].values[0]"
   ]
  },
  {
   "cell_type": "code",
   "execution_count": null,
   "metadata": {},
   "outputs": [],
   "source": []
  }
 ],
 "metadata": {
  "kernelspec": {
   "display_name": "Python 3",
   "language": "python",
   "name": "python3"
  },
  "language_info": {
   "codemirror_mode": {
    "name": "ipython",
    "version": 3
   },
   "file_extension": ".py",
   "mimetype": "text/x-python",
   "name": "python",
   "nbconvert_exporter": "python",
   "pygments_lexer": "ipython3",
   "version": "3.7.3"
  }
 },
 "nbformat": 4,
 "nbformat_minor": 2
}
